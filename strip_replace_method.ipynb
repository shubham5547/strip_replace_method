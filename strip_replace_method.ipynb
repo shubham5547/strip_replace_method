{
 "cells": [
  {
   "cell_type": "code",
   "execution_count": 1,
   "metadata": {},
   "outputs": [
    {
     "name": "stdout",
     "output_type": "stream",
     "text": [
      "-------------------      shubham     -------------------\n"
     ]
    }
   ],
   "source": [
    "# strip method for remove space\n",
    "name = \"      shubham     \"\n",
    "dots = \"-------------------\"\n",
    "print(dots + name + dots)"
   ]
  },
  {
   "cell_type": "code",
   "execution_count": 2,
   "metadata": {},
   "outputs": [
    {
     "name": "stdout",
     "output_type": "stream",
     "text": [
      "-------------------shubham     -------------------\n"
     ]
    }
   ],
   "source": [
    "# for removing left side space\n",
    "# lstrip method\n",
    "\n",
    "print(dots + name.lstrip() + dots )"
   ]
  },
  {
   "cell_type": "code",
   "execution_count": 3,
   "metadata": {},
   "outputs": [
    {
     "name": "stdout",
     "output_type": "stream",
     "text": [
      "-------------------      shubham-------------------\n"
     ]
    }
   ],
   "source": [
    "# for removing right side space\n",
    "# rstrip method\n",
    "\n",
    "print(dots + name.rstrip() + dots )"
   ]
  },
  {
   "cell_type": "code",
   "execution_count": 4,
   "metadata": {},
   "outputs": [
    {
     "name": "stdout",
     "output_type": "stream",
     "text": [
      "-------------------shubham-------------------\n"
     ]
    }
   ],
   "source": [
    "# for removing both side space together\n",
    "# strip method\n",
    "\n",
    "print(dots + name.strip() + dots)"
   ]
  },
  {
   "cell_type": "code",
   "execution_count": 5,
   "metadata": {},
   "outputs": [
    {
     "name": "stdout",
     "output_type": "stream",
     "text": [
      "     shu        bham    \n"
     ]
    }
   ],
   "source": [
    "# for removing space between the words\n",
    "# replace method\n",
    "\n",
    "name = \"     shu        bham    \"\n",
    "print(name)"
   ]
  },
  {
   "cell_type": "code",
   "execution_count": 6,
   "metadata": {},
   "outputs": [
    {
     "name": "stdout",
     "output_type": "stream",
     "text": [
      "shubham\n"
     ]
    }
   ],
   "source": [
    "# replace method\n",
    "# name.replace(\" \",\"\")\n",
    "\n",
    "print(name.replace(\" \",\"\"))\n"
   ]
  },
  {
   "cell_type": "code",
   "execution_count": null,
   "metadata": {},
   "outputs": [],
   "source": []
  }
 ],
 "metadata": {
  "kernelspec": {
   "display_name": "Python 3",
   "language": "python",
   "name": "python3"
  },
  "language_info": {
   "codemirror_mode": {
    "name": "ipython",
    "version": 3
   },
   "file_extension": ".py",
   "mimetype": "text/x-python",
   "name": "python",
   "nbconvert_exporter": "python",
   "pygments_lexer": "ipython3",
   "version": "3.7.6"
  }
 },
 "nbformat": 4,
 "nbformat_minor": 4
}
