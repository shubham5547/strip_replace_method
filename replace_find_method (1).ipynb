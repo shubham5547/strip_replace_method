{
 "cells": [
  {
   "cell_type": "code",
   "execution_count": 1,
   "metadata": {},
   "outputs": [],
   "source": [
    "# replace method\n",
    "# find method\n"
   ]
  },
  {
   "cell_type": "code",
   "execution_count": 3,
   "metadata": {},
   "outputs": [
    {
     "name": "stdout",
     "output_type": "stream",
     "text": [
      "she_is_beautiful_and_she_is_good_dancer\n"
     ]
    }
   ],
   "source": [
    "my_string = \"she is beautiful and she is good dancer\"\n",
    "\n",
    "# if you want to replace space with underscore or other sign.\n",
    "\n",
    "# my_string.replace(\" \", \"_\")\n",
    "\n",
    "print(my_string.replace(\" \", \"_\"))\n"
   ]
  },
  {
   "cell_type": "code",
   "execution_count": 5,
   "metadata": {},
   "outputs": [
    {
     "name": "stdout",
     "output_type": "stream",
     "text": [
      "she was beautiful and she was good dancer\n"
     ]
    }
   ],
   "source": [
    "my_string = \"she is beautiful and she is good dancer\"\n",
    "\n",
    "# i want to replace is with was.\n",
    "# my_string.replace(\"is\", \"was\")\n",
    "\n",
    "print(my_string.replace(\"is\", \"was\"))\n"
   ]
  },
  {
   "cell_type": "code",
   "execution_count": 6,
   "metadata": {},
   "outputs": [
    {
     "name": "stdout",
     "output_type": "stream",
     "text": [
      "she was beautiful and she is good dancer\n"
     ]
    }
   ],
   "source": [
    "my_string = \"she is beautiful and she is good dancer\"\n",
    "\n",
    "#i want to replace only_first is  with was.\n",
    "\n",
    "# my_string.replace(\"is\", \"was\", 1)\n",
    "\n",
    "print(my_string.replace(\"is\", \"was\", 1))\n"
   ]
  },
  {
   "cell_type": "code",
   "execution_count": 9,
   "metadata": {},
   "outputs": [],
   "source": [
    "# find method\n",
    "# find the position of words"
   ]
  },
  {
   "cell_type": "code",
   "execution_count": 13,
   "metadata": {},
   "outputs": [
    {
     "name": "stdout",
     "output_type": "stream",
     "text": [
      "4\n"
     ]
    }
   ],
   "source": [
    "my_string = \"she is beautiful and she is good dancer\"\n",
    "\n",
    "#i want to find position of is.\n",
    "\n",
    "# my_string.find(\"is\")\n",
    "\n",
    "print(my_string.find(\"is\"))\n"
   ]
  },
  {
   "cell_type": "code",
   "execution_count": 15,
   "metadata": {},
   "outputs": [
    {
     "name": "stdout",
     "output_type": "stream",
     "text": [
      "25\n"
     ]
    }
   ],
   "source": [
    "# if you find the position of second is\n",
    "\n",
    "my_string = \"she is beautiful and she is good dancer\"\n",
    "\n",
    "# my_string.find(\"is\")\n",
    "\n",
    "print(my_string.find(\"is\",5))\n"
   ]
  },
  {
   "cell_type": "code",
   "execution_count": 3,
   "metadata": {},
   "outputs": [
    {
     "name": "stdout",
     "output_type": "stream",
     "text": [
      "4\n"
     ]
    }
   ],
   "source": [
    "# if you dont know the first position of 'is' than find second position of is\n",
    "\n",
    "my_string = \"she is beautiful and she is good dancer\"\n",
    "is_pos1 = my_string.find(\"is\")\n",
    "is_pos2 = my_string.find(\"is\", is_pos1)\n",
    "print(is_pos2)\n"
   ]
  },
  {
   "cell_type": "code",
   "execution_count": 4,
   "metadata": {},
   "outputs": [
    {
     "name": "stdout",
     "output_type": "stream",
     "text": [
      "25\n"
     ]
    }
   ],
   "source": [
    "# if you dont know the first position of 'is' than find second position of is\n",
    "\n",
    "my_string = \"she is beautiful and she is good dancer\"\n",
    "is_pos1 = my_string.find(\"is\")\n",
    "is_pos2 = my_string.find(\"is\", is_pos1 + 1)\n",
    "print(is_pos2)\n"
   ]
  },
  {
   "cell_type": "code",
   "execution_count": null,
   "metadata": {},
   "outputs": [],
   "source": []
  }
 ],
 "metadata": {
  "kernelspec": {
   "display_name": "Python 3",
   "language": "python",
   "name": "python3"
  },
  "language_info": {
   "codemirror_mode": {
    "name": "ipython",
    "version": 3
   },
   "file_extension": ".py",
   "mimetype": "text/x-python",
   "name": "python",
   "nbconvert_exporter": "python",
   "pygments_lexer": "ipython3",
   "version": "3.7.6"
  }
 },
 "nbformat": 4,
 "nbformat_minor": 4
}
